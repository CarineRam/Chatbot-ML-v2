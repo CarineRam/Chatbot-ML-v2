{
  "nbformat": 4,
  "nbformat_minor": 0,
  "metadata": {
    "colab": {
      "provenance": [],
      "authorship_tag": "ABX9TyP3wQjrWaMpqQx1nkhj7G4i",
      "include_colab_link": true
    },
    "kernelspec": {
      "name": "python3",
      "display_name": "Python 3"
    },
    "language_info": {
      "name": "python"
    }
  },
  "cells": [
    {
      "cell_type": "markdown",
      "metadata": {
        "id": "view-in-github",
        "colab_type": "text"
      },
      "source": [
        "<a href=\"https://colab.research.google.com/github/CarineRam/Chatbot-ML-v2/blob/main/train.ipynb\" target=\"_parent\"><img src=\"https://colab.research.google.com/assets/colab-badge.svg\" alt=\"Open In Colab\"/></a>"
      ]
    },
    {
      "cell_type": "code",
      "execution_count": 47,
      "metadata": {
        "colab": {
          "base_uri": "https://localhost:8080/",
          "height": 87
        },
        "id": "Zm7Hh1hfiutr",
        "outputId": "2400b959-c67c-439d-9bce-54773b2947bd"
      },
      "outputs": [
        {
          "output_type": "display_data",
          "data": {
            "text/plain": [
              "<IPython.core.display.HTML object>"
            ],
            "text/html": [
              "\n",
              "     <input type=\"file\" id=\"files-50a81e0d-40a2-42c4-b200-0e6ed3cc53e5\" name=\"files[]\" multiple disabled\n",
              "        style=\"border:none\" />\n",
              "     <output id=\"result-50a81e0d-40a2-42c4-b200-0e6ed3cc53e5\">\n",
              "      Upload widget is only available when the cell has been executed in the\n",
              "      current browser session. Please rerun this cell to enable.\n",
              "      </output>\n",
              "      <script>// Copyright 2017 Google LLC\n",
              "//\n",
              "// Licensed under the Apache License, Version 2.0 (the \"License\");\n",
              "// you may not use this file except in compliance with the License.\n",
              "// You may obtain a copy of the License at\n",
              "//\n",
              "//      http://www.apache.org/licenses/LICENSE-2.0\n",
              "//\n",
              "// Unless required by applicable law or agreed to in writing, software\n",
              "// distributed under the License is distributed on an \"AS IS\" BASIS,\n",
              "// WITHOUT WARRANTIES OR CONDITIONS OF ANY KIND, either express or implied.\n",
              "// See the License for the specific language governing permissions and\n",
              "// limitations under the License.\n",
              "\n",
              "/**\n",
              " * @fileoverview Helpers for google.colab Python module.\n",
              " */\n",
              "(function(scope) {\n",
              "function span(text, styleAttributes = {}) {\n",
              "  const element = document.createElement('span');\n",
              "  element.textContent = text;\n",
              "  for (const key of Object.keys(styleAttributes)) {\n",
              "    element.style[key] = styleAttributes[key];\n",
              "  }\n",
              "  return element;\n",
              "}\n",
              "\n",
              "// Max number of bytes which will be uploaded at a time.\n",
              "const MAX_PAYLOAD_SIZE = 100 * 1024;\n",
              "\n",
              "function _uploadFiles(inputId, outputId) {\n",
              "  const steps = uploadFilesStep(inputId, outputId);\n",
              "  const outputElement = document.getElementById(outputId);\n",
              "  // Cache steps on the outputElement to make it available for the next call\n",
              "  // to uploadFilesContinue from Python.\n",
              "  outputElement.steps = steps;\n",
              "\n",
              "  return _uploadFilesContinue(outputId);\n",
              "}\n",
              "\n",
              "// This is roughly an async generator (not supported in the browser yet),\n",
              "// where there are multiple asynchronous steps and the Python side is going\n",
              "// to poll for completion of each step.\n",
              "// This uses a Promise to block the python side on completion of each step,\n",
              "// then passes the result of the previous step as the input to the next step.\n",
              "function _uploadFilesContinue(outputId) {\n",
              "  const outputElement = document.getElementById(outputId);\n",
              "  const steps = outputElement.steps;\n",
              "\n",
              "  const next = steps.next(outputElement.lastPromiseValue);\n",
              "  return Promise.resolve(next.value.promise).then((value) => {\n",
              "    // Cache the last promise value to make it available to the next\n",
              "    // step of the generator.\n",
              "    outputElement.lastPromiseValue = value;\n",
              "    return next.value.response;\n",
              "  });\n",
              "}\n",
              "\n",
              "/**\n",
              " * Generator function which is called between each async step of the upload\n",
              " * process.\n",
              " * @param {string} inputId Element ID of the input file picker element.\n",
              " * @param {string} outputId Element ID of the output display.\n",
              " * @return {!Iterable<!Object>} Iterable of next steps.\n",
              " */\n",
              "function* uploadFilesStep(inputId, outputId) {\n",
              "  const inputElement = document.getElementById(inputId);\n",
              "  inputElement.disabled = false;\n",
              "\n",
              "  const outputElement = document.getElementById(outputId);\n",
              "  outputElement.innerHTML = '';\n",
              "\n",
              "  const pickedPromise = new Promise((resolve) => {\n",
              "    inputElement.addEventListener('change', (e) => {\n",
              "      resolve(e.target.files);\n",
              "    });\n",
              "  });\n",
              "\n",
              "  const cancel = document.createElement('button');\n",
              "  inputElement.parentElement.appendChild(cancel);\n",
              "  cancel.textContent = 'Cancel upload';\n",
              "  const cancelPromise = new Promise((resolve) => {\n",
              "    cancel.onclick = () => {\n",
              "      resolve(null);\n",
              "    };\n",
              "  });\n",
              "\n",
              "  // Wait for the user to pick the files.\n",
              "  const files = yield {\n",
              "    promise: Promise.race([pickedPromise, cancelPromise]),\n",
              "    response: {\n",
              "      action: 'starting',\n",
              "    }\n",
              "  };\n",
              "\n",
              "  cancel.remove();\n",
              "\n",
              "  // Disable the input element since further picks are not allowed.\n",
              "  inputElement.disabled = true;\n",
              "\n",
              "  if (!files) {\n",
              "    return {\n",
              "      response: {\n",
              "        action: 'complete',\n",
              "      }\n",
              "    };\n",
              "  }\n",
              "\n",
              "  for (const file of files) {\n",
              "    const li = document.createElement('li');\n",
              "    li.append(span(file.name, {fontWeight: 'bold'}));\n",
              "    li.append(span(\n",
              "        `(${file.type || 'n/a'}) - ${file.size} bytes, ` +\n",
              "        `last modified: ${\n",
              "            file.lastModifiedDate ? file.lastModifiedDate.toLocaleDateString() :\n",
              "                                    'n/a'} - `));\n",
              "    const percent = span('0% done');\n",
              "    li.appendChild(percent);\n",
              "\n",
              "    outputElement.appendChild(li);\n",
              "\n",
              "    const fileDataPromise = new Promise((resolve) => {\n",
              "      const reader = new FileReader();\n",
              "      reader.onload = (e) => {\n",
              "        resolve(e.target.result);\n",
              "      };\n",
              "      reader.readAsArrayBuffer(file);\n",
              "    });\n",
              "    // Wait for the data to be ready.\n",
              "    let fileData = yield {\n",
              "      promise: fileDataPromise,\n",
              "      response: {\n",
              "        action: 'continue',\n",
              "      }\n",
              "    };\n",
              "\n",
              "    // Use a chunked sending to avoid message size limits. See b/62115660.\n",
              "    let position = 0;\n",
              "    do {\n",
              "      const length = Math.min(fileData.byteLength - position, MAX_PAYLOAD_SIZE);\n",
              "      const chunk = new Uint8Array(fileData, position, length);\n",
              "      position += length;\n",
              "\n",
              "      const base64 = btoa(String.fromCharCode.apply(null, chunk));\n",
              "      yield {\n",
              "        response: {\n",
              "          action: 'append',\n",
              "          file: file.name,\n",
              "          data: base64,\n",
              "        },\n",
              "      };\n",
              "\n",
              "      let percentDone = fileData.byteLength === 0 ?\n",
              "          100 :\n",
              "          Math.round((position / fileData.byteLength) * 100);\n",
              "      percent.textContent = `${percentDone}% done`;\n",
              "\n",
              "    } while (position < fileData.byteLength);\n",
              "  }\n",
              "\n",
              "  // All done.\n",
              "  yield {\n",
              "    response: {\n",
              "      action: 'complete',\n",
              "    }\n",
              "  };\n",
              "}\n",
              "\n",
              "scope.google = scope.google || {};\n",
              "scope.google.colab = scope.google.colab || {};\n",
              "scope.google.colab._files = {\n",
              "  _uploadFiles,\n",
              "  _uploadFilesContinue,\n",
              "};\n",
              "})(self);\n",
              "</script> "
            ]
          },
          "metadata": {}
        },
        {
          "output_type": "stream",
          "name": "stdout",
          "text": [
            "Saving dialog.txt to dialog (2).txt\n",
            "243904\n"
          ]
        }
      ],
      "source": [
        "from google.colab import files\n",
        "\n",
        "uploaded = files.upload()\n",
        "\n",
        "for filename in uploaded.keys():\n",
        "    with open(filename, 'r') as file:\n",
        "        content = file.read()\n",
        "        print(len(content))"
      ]
    },
    {
      "cell_type": "code",
      "source": [
        "chars = sorted(list(set(content)))\n",
        "vocab_size = len(chars)\n",
        "print(''.join(chars))\n",
        "print(vocab_size)"
      ],
      "metadata": {
        "colab": {
          "base_uri": "https://localhost:8080/"
        },
        "id": "kBpJgA3GkH8j",
        "outputId": "ec2a361b-74dc-4821-aa9c-ea18dd38d045"
      },
      "execution_count": 48,
      "outputs": [
        {
          "output_type": "stream",
          "name": "stdout",
          "text": [
            "\t\n",
            " !\"$&',-./0123456789:;?@abcdefghijklmnopqrstuvwxyzÂ—…\n",
            "55\n"
          ]
        }
      ]
    },
    {
      "cell_type": "code",
      "source": [
        "# create a mapping from characters to integers\n",
        "stoi = { ch:i for i,ch in enumerate(chars) }\n",
        "itos = { i:ch for i,ch in enumerate(chars) }\n",
        "encode = lambda s: [stoi[c] for c in s] # encoder: take a string, output a list of integers\n",
        "decode = lambda l: ''.join([itos[i] for i in l]) # decoder: take a list of integers, output a string\n",
        "\n",
        "print(encode(\"hii there\"))\n",
        "print(decode(encode(\"hii there\")))"
      ],
      "metadata": {
        "colab": {
          "base_uri": "https://localhost:8080/"
        },
        "id": "6wlAVUr-ktQw",
        "outputId": "50018b42-1836-49f5-f41e-4d3c662ac1e8"
      },
      "execution_count": 49,
      "outputs": [
        {
          "output_type": "stream",
          "name": "stdout",
          "text": [
            "[33, 34, 34, 2, 45, 33, 30, 43, 30]\n",
            "hii there\n"
          ]
        }
      ]
    },
    {
      "cell_type": "code",
      "source": [
        "import torch # we use PyTorch: https://pytorch.org\n",
        "data = torch.tensor(encode(content), dtype=torch.long)\n",
        "print(data.shape, data.dtype)\n",
        "print(data[:1000])"
      ],
      "metadata": {
        "colab": {
          "base_uri": "https://localhost:8080/"
        },
        "id": "fjWbpAQ7lQ9e",
        "outputId": "8dd8cea8-3902-4683-ebda-0e3f6587b770"
      },
      "execution_count": 50,
      "outputs": [
        {
          "output_type": "stream",
          "name": "stdout",
          "text": [
            "torch.Size([243904]) torch.int64\n",
            "tensor([33, 34,  8,  2, 33, 40, 48,  2, 26, 43, 30,  2, 50, 40, 46,  2, 29, 40,\n",
            "        34, 39, 32, 24,  0, 34,  7, 38,  2, 31, 34, 39, 30, 10,  2, 33, 40, 48,\n",
            "         2, 26, 27, 40, 46, 45,  2, 50, 40, 46, 43, 44, 30, 37, 31, 24,  1, 34,\n",
            "         7, 38,  2, 31, 34, 39, 30, 10,  2, 33, 40, 48,  2, 26, 27, 40, 46, 45,\n",
            "         2, 50, 40, 46, 43, 44, 30, 37, 31, 24,  0, 34,  7, 38,  2, 41, 43, 30,\n",
            "        45, 45, 50,  2, 32, 40, 40, 29, 10,  2, 45, 33, 26, 39, 36, 44,  2, 31,\n",
            "        40, 43,  2, 26, 44, 36, 34, 39, 32, 10,  1, 34,  7, 38,  2, 41, 43, 30,\n",
            "        45, 45, 50,  2, 32, 40, 40, 29, 10,  2, 45, 33, 26, 39, 36, 44,  2, 31,\n",
            "        40, 43,  2, 26, 44, 36, 34, 39, 32, 10,  0, 39, 40,  2, 41, 43, 40, 27,\n",
            "        37, 30, 38, 10,  2, 44, 40,  2, 33, 40, 48,  2, 33, 26, 47, 30,  2, 50,\n",
            "        40, 46,  2, 27, 30, 30, 39, 24,  1, 39, 40,  2, 41, 43, 40, 27, 37, 30,\n",
            "        38, 10,  2, 44, 40,  2, 33, 40, 48,  2, 33, 26, 47, 30,  2, 50, 40, 46,\n",
            "         2, 27, 30, 30, 39, 24,  0, 34,  7, 47, 30,  2, 27, 30, 30, 39,  2, 32,\n",
            "        43, 30, 26, 45, 10,  2, 48, 33, 26, 45,  2, 26, 27, 40, 46, 45,  2, 50,\n",
            "        40, 46, 24,  1, 34,  7, 47, 30,  2, 27, 30, 30, 39,  2, 32, 43, 30, 26,\n",
            "        45, 10,  2, 48, 33, 26, 45,  2, 26, 27, 40, 46, 45,  2, 50, 40, 46, 24,\n",
            "         0, 34,  7, 47, 30,  2, 27, 30, 30, 39,  2, 32, 40, 40, 29, 10,  2, 34,\n",
            "         7, 38,  2, 34, 39,  2, 44, 28, 33, 40, 40, 37,  2, 43, 34, 32, 33, 45,\n",
            "         2, 39, 40, 48, 10,  1, 34,  7, 47, 30,  2, 27, 30, 30, 39,  2, 32, 40,\n",
            "        40, 29, 10,  2, 34,  7, 38,  2, 34, 39,  2, 44, 28, 33, 40, 40, 37,  2,\n",
            "        43, 34, 32, 33, 45,  2, 39, 40, 48, 10,  0, 48, 33, 26, 45,  2, 44, 28,\n",
            "        33, 40, 40, 37,  2, 29, 40,  2, 50, 40, 46,  2, 32, 40,  2, 45, 40, 24,\n",
            "         1, 48, 33, 26, 45,  2, 44, 28, 33, 40, 40, 37,  2, 29, 40,  2, 50, 40,\n",
            "        46,  2, 32, 40,  2, 45, 40, 24,  0, 34,  2, 32, 40,  2, 45, 40,  2, 41,\n",
            "        28, 28, 10,  1, 34,  2, 32, 40,  2, 45, 40,  2, 41, 28, 28, 10,  0, 29,\n",
            "        40,  2, 50, 40, 46,  2, 37, 34, 36, 30,  2, 34, 45,  2, 45, 33, 30, 43,\n",
            "        30, 24,  1, 29, 40,  2, 50, 40, 46,  2, 37, 34, 36, 30,  2, 34, 45,  2,\n",
            "        45, 33, 30, 43, 30, 24,  0, 34, 45,  7, 44,  2, 40, 36, 26, 50, 10,  2,\n",
            "        34, 45,  7, 44,  2, 26,  2, 43, 30, 26, 37, 37, 50,  2, 27, 34, 32,  2,\n",
            "        28, 26, 38, 41, 46, 44, 10,  1, 34, 45,  7, 44,  2, 40, 36, 26, 50, 10,\n",
            "         2, 34, 45,  7, 44,  2, 26,  2, 43, 30, 26, 37, 37, 50,  2, 27, 34, 32,\n",
            "         2, 28, 26, 38, 41, 46, 44, 10,  0, 32, 40, 40, 29,  2, 37, 46, 28, 36,\n",
            "         2, 48, 34, 45, 33,  2, 44, 28, 33, 40, 40, 37, 10,  1, 32, 40, 40, 29,\n",
            "         2, 37, 46, 28, 36,  2, 48, 34, 45, 33,  2, 44, 28, 33, 40, 40, 37, 10,\n",
            "         0, 45, 33, 26, 39, 36,  2, 50, 40, 46,  2, 47, 30, 43, 50,  2, 38, 46,\n",
            "        28, 33, 10,  1, 33, 40, 48,  7, 44,  2, 34, 45,  2, 32, 40, 34, 39, 32,\n",
            "        24,  0, 34,  7, 38,  2, 29, 40, 34, 39, 32,  2, 48, 30, 37, 37, 10,  2,\n",
            "        33, 40, 48,  2, 26, 27, 40, 46, 45,  2, 50, 40, 46, 24,  1, 34,  7, 38,\n",
            "         2, 29, 40, 34, 39, 32,  2, 48, 30, 37, 37, 10,  2, 33, 40, 48,  2, 26,\n",
            "        27, 40, 46, 45,  2, 50, 40, 46, 24,  0, 39, 30, 47, 30, 43,  2, 27, 30,\n",
            "        45, 45, 30, 43,  8,  2, 45, 33, 26, 39, 36, 44, 10,  1, 39, 30, 47, 30,\n",
            "        43,  2, 27, 30, 45, 45, 30, 43,  8,  2, 45, 33, 26, 39, 36, 44, 10,  0,\n",
            "        44, 40,  2, 33, 40, 48,  2, 33, 26, 47, 30,  2, 50, 40, 46,  2, 27, 30,\n",
            "        30, 39,  2, 37, 26, 45, 30, 37, 50, 24,  1, 44, 40,  2, 33, 40, 48,  2,\n",
            "        33, 26, 47, 30,  2, 50, 40, 46,  2, 27, 30, 30, 39,  2, 37, 26, 45, 30,\n",
            "        37, 50, 24,  0, 34,  7, 47, 30,  2, 26, 28, 45, 46, 26, 37, 37, 50,  2,\n",
            "        27, 30, 30, 39,  2, 41, 43, 30, 45, 45, 50,  2, 32, 40, 40, 29, 10,  2,\n",
            "        50, 40, 46, 24,  1, 34,  7, 47, 30,  2, 26, 28, 45, 46, 26, 37, 37, 50,\n",
            "         2, 27, 30, 30, 39,  2, 41, 43, 30, 45, 45, 50,  2, 32, 40, 40, 29, 10,\n",
            "         2, 50, 40, 46, 24,  0, 34,  7, 38,  2, 26, 28, 45, 46, 26, 37, 37, 50,\n",
            "         2, 34, 39,  2, 44, 28, 33, 40, 40, 37,  2, 43, 34, 32, 33, 45,  2, 39,\n",
            "        40, 48, 10,  1, 34,  7, 38,  2, 26, 28, 45, 46, 26, 37, 37, 50,  2, 34,\n",
            "        39,  2, 44, 28, 33, 40, 40, 37,  2, 43, 34, 32, 33, 45,  2, 39, 40, 48,\n",
            "        10,  0, 48, 33, 34, 28, 33,  2, 44, 28, 33, 40, 40, 37,  2, 29, 40,  2,\n",
            "        50, 40, 46,  2, 26, 45, 45, 30, 39, 29, 24,  1, 48, 33, 34, 28, 33,  2,\n",
            "        44, 28, 33, 40, 40, 37,  2, 29, 40,  2])\n"
          ]
        }
      ]
    },
    {
      "cell_type": "code",
      "source": [
        "# Let's now split up the data into train and validation sets\n",
        "n = int(0.9*len(data)) # first 90% will be train, rest val\n",
        "train_data = data[:n]\n",
        "val_data = data[n:]"
      ],
      "metadata": {
        "id": "KN-PcvqHpLuG"
      },
      "execution_count": 51,
      "outputs": []
    },
    {
      "cell_type": "code",
      "source": [
        "block_size = 8\n",
        "train_data[:block_size+1]"
      ],
      "metadata": {
        "colab": {
          "base_uri": "https://localhost:8080/"
        },
        "id": "rWWA9wmjp2Ee",
        "outputId": "ff76796e-ee79-4427-b601-e36856d54447"
      },
      "execution_count": 52,
      "outputs": [
        {
          "output_type": "execute_result",
          "data": {
            "text/plain": [
              "tensor([33, 34,  8,  2, 33, 40, 48,  2, 26])"
            ]
          },
          "metadata": {},
          "execution_count": 52
        }
      ]
    },
    {
      "cell_type": "code",
      "source": [
        "x = train_data[:block_size]\n",
        "y = train_data[1:block_size+1]\n",
        "for t in range(block_size):\n",
        "    context = x[:t+1]\n",
        "    target = y[t]\n",
        "    print(f\"when input is {context} the target: {target}\")"
      ],
      "metadata": {
        "colab": {
          "base_uri": "https://localhost:8080/"
        },
        "id": "7eaarl4vp9NH",
        "outputId": "2a5bf86c-168c-4565-ed1f-e532cb2de6eb"
      },
      "execution_count": 53,
      "outputs": [
        {
          "output_type": "stream",
          "name": "stdout",
          "text": [
            "when input is tensor([33]) the target: 34\n",
            "when input is tensor([33, 34]) the target: 8\n",
            "when input is tensor([33, 34,  8]) the target: 2\n",
            "when input is tensor([33, 34,  8,  2]) the target: 33\n",
            "when input is tensor([33, 34,  8,  2, 33]) the target: 40\n",
            "when input is tensor([33, 34,  8,  2, 33, 40]) the target: 48\n",
            "when input is tensor([33, 34,  8,  2, 33, 40, 48]) the target: 2\n",
            "when input is tensor([33, 34,  8,  2, 33, 40, 48,  2]) the target: 26\n"
          ]
        }
      ]
    },
    {
      "cell_type": "code",
      "source": [
        "torch.manual_seed(1337)\n",
        "batch_size = 4 # how many independent sequences will we process in parallel?\n",
        "block_size = 8 # what is the maximum context length for predictions?\n",
        "\n",
        "def get_batch(split):\n",
        "    # generate a small batch of data of inputs x and targets y\n",
        "    data = train_data if split == 'train' else val_data\n",
        "    ix = torch.randint(len(data) - block_size, (batch_size,))\n",
        "    x = torch.stack([data[i:i+block_size] for i in ix])\n",
        "    y = torch.stack([data[i+1:i+block_size+1] for i in ix])\n",
        "    return x, y\n",
        "\n",
        "xb, yb = get_batch('train')\n",
        "print('inputs:')\n",
        "print(xb.shape)\n",
        "print(xb)\n",
        "print('targets:')\n",
        "print(yb.shape)\n",
        "print(yb)\n",
        "\n",
        "print('----')\n",
        "\n",
        "for b in range(batch_size): # batch dimension\n",
        "    for t in range(block_size): # time dimension\n",
        "        context = xb[b, :t+1]\n",
        "        target = yb[b,t]\n",
        "        print(f\"when input is {context.tolist()} the target: {target}\")"
      ],
      "metadata": {
        "colab": {
          "base_uri": "https://localhost:8080/"
        },
        "id": "U1b0-gd-rxvP",
        "outputId": "1e265311-10e7-4b92-eea6-6e72432cae4d"
      },
      "execution_count": 54,
      "outputs": [
        {
          "output_type": "stream",
          "name": "stdout",
          "text": [
            "inputs:\n",
            "torch.Size([4, 8])\n",
            "tensor([[50, 27, 30,  2, 31, 40, 46, 43],\n",
            "        [ 2, 28, 40, 31, 31, 30, 30,  2],\n",
            "        [30, 47, 30, 43,  2, 33, 46, 43],\n",
            "        [44,  2, 34, 45,  2, 33, 34, 44]])\n",
            "targets:\n",
            "torch.Size([4, 8])\n",
            "tensor([[27, 30,  2, 31, 40, 46, 43,  2],\n",
            "        [28, 40, 31, 31, 30, 30,  2, 44],\n",
            "        [47, 30, 43,  2, 33, 46, 43, 45],\n",
            "        [ 2, 34, 45,  2, 33, 34, 44,  2]])\n",
            "----\n",
            "when input is [50] the target: 27\n",
            "when input is [50, 27] the target: 30\n",
            "when input is [50, 27, 30] the target: 2\n",
            "when input is [50, 27, 30, 2] the target: 31\n",
            "when input is [50, 27, 30, 2, 31] the target: 40\n",
            "when input is [50, 27, 30, 2, 31, 40] the target: 46\n",
            "when input is [50, 27, 30, 2, 31, 40, 46] the target: 43\n",
            "when input is [50, 27, 30, 2, 31, 40, 46, 43] the target: 2\n",
            "when input is [2] the target: 28\n",
            "when input is [2, 28] the target: 40\n",
            "when input is [2, 28, 40] the target: 31\n",
            "when input is [2, 28, 40, 31] the target: 31\n",
            "when input is [2, 28, 40, 31, 31] the target: 30\n",
            "when input is [2, 28, 40, 31, 31, 30] the target: 30\n",
            "when input is [2, 28, 40, 31, 31, 30, 30] the target: 2\n",
            "when input is [2, 28, 40, 31, 31, 30, 30, 2] the target: 44\n",
            "when input is [30] the target: 47\n",
            "when input is [30, 47] the target: 30\n",
            "when input is [30, 47, 30] the target: 43\n",
            "when input is [30, 47, 30, 43] the target: 2\n",
            "when input is [30, 47, 30, 43, 2] the target: 33\n",
            "when input is [30, 47, 30, 43, 2, 33] the target: 46\n",
            "when input is [30, 47, 30, 43, 2, 33, 46] the target: 43\n",
            "when input is [30, 47, 30, 43, 2, 33, 46, 43] the target: 45\n",
            "when input is [44] the target: 2\n",
            "when input is [44, 2] the target: 34\n",
            "when input is [44, 2, 34] the target: 45\n",
            "when input is [44, 2, 34, 45] the target: 2\n",
            "when input is [44, 2, 34, 45, 2] the target: 33\n",
            "when input is [44, 2, 34, 45, 2, 33] the target: 34\n",
            "when input is [44, 2, 34, 45, 2, 33, 34] the target: 44\n",
            "when input is [44, 2, 34, 45, 2, 33, 34, 44] the target: 2\n"
          ]
        }
      ]
    },
    {
      "cell_type": "code",
      "source": [
        "print(xb) # our input to the transformer"
      ],
      "metadata": {
        "colab": {
          "base_uri": "https://localhost:8080/"
        },
        "id": "z088RCW4sm7u",
        "outputId": "a521970d-938a-4f59-874e-6d3aacb8e658"
      },
      "execution_count": 55,
      "outputs": [
        {
          "output_type": "stream",
          "name": "stdout",
          "text": [
            "tensor([[50, 27, 30,  2, 31, 40, 46, 43],\n",
            "        [ 2, 28, 40, 31, 31, 30, 30,  2],\n",
            "        [30, 47, 30, 43,  2, 33, 46, 43],\n",
            "        [44,  2, 34, 45,  2, 33, 34, 44]])\n"
          ]
        }
      ]
    },
    {
      "cell_type": "code",
      "source": [
        "import torch\n",
        "import torch.nn as nn\n",
        "from torch.nn import functional as F\n",
        "torch.manual_seed(1337)\n",
        "\n",
        "class BigramLanguageModel(nn.Module):\n",
        "\n",
        "    def __init__(self, vocab_size):\n",
        "        super().__init__()\n",
        "        # each token directly reads off the logits for the next token from a lookup table\n",
        "        self.token_embedding_table = nn.Embedding(vocab_size, vocab_size)\n",
        "\n",
        "    def forward(self, idx, targets=None):\n",
        "\n",
        "        # idx and targets are both (B,T) tensor of integers\n",
        "        logits = self.token_embedding_table(idx) # (B,T,C)\n",
        "\n",
        "        if targets is None:\n",
        "            loss = None\n",
        "        else:\n",
        "            B, T, C = logits.shape\n",
        "            logits = logits.view(B*T, C)\n",
        "            targets = targets.view(B*T)\n",
        "            loss = F.cross_entropy(logits, targets)\n",
        "\n",
        "        return logits, loss\n",
        "\n",
        "    def generate(self, idx, max_new_tokens):\n",
        "        # idx is (B, T) array of indices in the current context\n",
        "        for _ in range(max_new_tokens):\n",
        "            # get the predictions\n",
        "            logits, loss = self(idx)\n",
        "            # focus only on the last time step\n",
        "            logits = logits[:, -1, :] # becomes (B, C)\n",
        "            # apply softmax to get probabilities\n",
        "            probs = F.softmax(logits, dim=-1) # (B, C)\n",
        "            # sample from the distribution\n",
        "            idx_next = torch.multinomial(probs, num_samples=1) # (B, 1)\n",
        "            # append sampled index to the running sequence\n",
        "            idx = torch.cat((idx, idx_next), dim=1) # (B, T+1)\n",
        "        return idx\n",
        "\n",
        "m = BigramLanguageModel(vocab_size)\n",
        "logits, loss = m(xb, yb)\n",
        "print(logits.shape)\n",
        "print(loss)\n",
        "\n",
        "print(decode(m.generate(idx = torch.zeros((1, 1), dtype=torch.long), max_new_tokens=100)[0].tolist()))"
      ],
      "metadata": {
        "colab": {
          "base_uri": "https://localhost:8080/"
        },
        "id": "e65sC1Tu37Su",
        "outputId": "3c74de97-dc62-41cc-a417-9f40902e995b"
      },
      "execution_count": 56,
      "outputs": [
        {
          "output_type": "stream",
          "name": "stdout",
          "text": [
            "torch.Size([32, 55])\n",
            "tensor(4.4512, grad_fn=<NllLossBackward0>)\n",
            "\t…&4\n",
            "…m73-hag1cÂps5?9z8lt11,3\n",
            "&jvqvzzkr:eos3\n",
            "2vb m\n",
            "Â9Âv/l?zyzv&!oed/-10$s\t\"n1/q….5p.\"01u'cp!9rl!:034w\n"
          ]
        }
      ]
    },
    {
      "cell_type": "code",
      "source": [
        "# create a PyTorch optimizer\n",
        "optimizer = torch.optim.AdamW(m.parameters(), lr=1e-3)"
      ],
      "metadata": {
        "id": "wmCL5pLm_Pxn"
      },
      "execution_count": 57,
      "outputs": []
    },
    {
      "cell_type": "code",
      "source": [
        "batch_size = 32\n",
        "for steps in range(10000): # increase number of steps for good results...\n",
        "\n",
        "    # sample a batch of data\n",
        "    xb, yb = get_batch('train')\n",
        "\n",
        "    # evaluate the loss\n",
        "    logits, loss = m(xb, yb)\n",
        "    optimizer.zero_grad(set_to_none=True)\n",
        "    loss.backward()\n",
        "    optimizer.step()\n",
        "\n",
        "print(loss.item())"
      ],
      "metadata": {
        "colab": {
          "base_uri": "https://localhost:8080/"
        },
        "id": "85cN0yurG9Cd",
        "outputId": "6287e754-df31-455a-eb1a-1de7539ffe87"
      },
      "execution_count": 58,
      "outputs": [
        {
          "output_type": "stream",
          "name": "stdout",
          "text": [
            "2.248279333114624\n"
          ]
        }
      ]
    },
    {
      "cell_type": "code",
      "source": [
        "print(decode(m.generate(idx = torch.zeros((1, 1), dtype=torch.long), max_new_tokens=500)[0].tolist()))"
      ],
      "metadata": {
        "colab": {
          "base_uri": "https://localhost:8080/"
        },
        "id": "rWBwNBj2Hoh-",
        "outputId": "bde347ab-c481-4afb-c255-532bc7e7d248"
      },
      "execution_count": 59,
      "outputs": [
        {
          "output_type": "stream",
          "name": "stdout",
          "text": [
            "\twane d bbe he t f dant d tof trop8 ice.\ty oo, le thisol onoorulether.\tt, ifone whyoithof bedingons ondout my theai ybsut ases d doritoou?\n",
            "bes pest bu mps t se g ize ur t't noullobl?\two tesbarorath&d iooul iche g ik wheeer tyoure me y?\t$8:0;&he nt. heline t sh heaseee werk hadanuye ieav ne.\n",
            "\n",
            "isopeallllargifoked he?\n",
            "meavers yof ers ye cel t ctind ed at hed waveasoull, bacslias.\twicthenivet bube t twavendd cr t'moinikshave y ke, d ofi mu dis ino w, lor m ithe ds anthet tom..\n",
            "in'r, anokilou.\n",
            "widarat\n"
          ]
        }
      ]
    },
    {
      "cell_type": "markdown",
      "source": [
        "Mathematical trick in self-attention"
      ],
      "metadata": {
        "id": "GJBsXOKyQAn-"
      }
    },
    {
      "cell_type": "code",
      "source": [
        "# consider the following toy example:\n",
        "\n",
        "torch.manual_seed(1337)\n",
        "B,T,C = 4,8,2 # batch, time, channels\n",
        "x = torch.randn(B,T,C)\n",
        "x.shape"
      ],
      "metadata": {
        "colab": {
          "base_uri": "https://localhost:8080/"
        },
        "id": "KVCOi20TQGru",
        "outputId": "469ee7cb-964c-4148-c04e-c517e65a6fdd"
      },
      "execution_count": 60,
      "outputs": [
        {
          "output_type": "execute_result",
          "data": {
            "text/plain": [
              "torch.Size([4, 8, 2])"
            ]
          },
          "metadata": {},
          "execution_count": 60
        }
      ]
    },
    {
      "cell_type": "code",
      "source": [
        "# We want x[b,t] = mean_{i<=t} x[b,i]\n",
        "xbow = torch.zeros((B,T,C))\n",
        "for b in range(B):\n",
        "    for t in range(T):\n",
        "        xprev = x[b,:t+1] # (t,C)\n",
        "        xbow[b,t] = torch.mean(xprev, 0)"
      ],
      "metadata": {
        "id": "rhsJBcvJRLta"
      },
      "execution_count": 61,
      "outputs": []
    },
    {
      "cell_type": "code",
      "source": [
        "x[0]"
      ],
      "metadata": {
        "colab": {
          "base_uri": "https://localhost:8080/"
        },
        "id": "zl-UBgCVRYw2",
        "outputId": "9fa3c107-da84-4e41-9163-e9e2b90daa95"
      },
      "execution_count": 62,
      "outputs": [
        {
          "output_type": "execute_result",
          "data": {
            "text/plain": [
              "tensor([[ 0.1808, -0.0700],\n",
              "        [-0.3596, -0.9152],\n",
              "        [ 0.6258,  0.0255],\n",
              "        [ 0.9545,  0.0643],\n",
              "        [ 0.3612,  1.1679],\n",
              "        [-1.3499, -0.5102],\n",
              "        [ 0.2360, -0.2398],\n",
              "        [-0.9211,  1.5433]])"
            ]
          },
          "metadata": {},
          "execution_count": 62
        }
      ]
    },
    {
      "cell_type": "code",
      "source": [
        "x[0]"
      ],
      "metadata": {
        "colab": {
          "base_uri": "https://localhost:8080/"
        },
        "id": "plvbjg2OSyuG",
        "outputId": "b5db0d1b-7a53-4214-aa48-230b878b8a6e"
      },
      "execution_count": 63,
      "outputs": [
        {
          "output_type": "execute_result",
          "data": {
            "text/plain": [
              "tensor([[ 0.1808, -0.0700],\n",
              "        [-0.3596, -0.9152],\n",
              "        [ 0.6258,  0.0255],\n",
              "        [ 0.9545,  0.0643],\n",
              "        [ 0.3612,  1.1679],\n",
              "        [-1.3499, -0.5102],\n",
              "        [ 0.2360, -0.2398],\n",
              "        [-0.9211,  1.5433]])"
            ]
          },
          "metadata": {},
          "execution_count": 63
        }
      ]
    },
    {
      "cell_type": "code",
      "source": [
        "xbow[0]"
      ],
      "metadata": {
        "colab": {
          "base_uri": "https://localhost:8080/"
        },
        "id": "CcfYvOjgS06_",
        "outputId": "c078f8e1-458c-4b3d-b565-8c89a13872bc"
      },
      "execution_count": 64,
      "outputs": [
        {
          "output_type": "execute_result",
          "data": {
            "text/plain": [
              "tensor([[ 0.1808, -0.0700],\n",
              "        [-0.0894, -0.4926],\n",
              "        [ 0.1490, -0.3199],\n",
              "        [ 0.3504, -0.2238],\n",
              "        [ 0.3525,  0.0545],\n",
              "        [ 0.0688, -0.0396],\n",
              "        [ 0.0927, -0.0682],\n",
              "        [-0.0341,  0.1332]])"
            ]
          },
          "metadata": {},
          "execution_count": 64
        }
      ]
    },
    {
      "cell_type": "code",
      "source": [
        "torch.manual_seed(42)\n",
        "# a = torch.ones(3, 3)\n",
        "a = torch.tril(torch.ones(3, 3))\n",
        "a = a / torch.sum(a, 1, keepdim=True)\n",
        "b = torch.randint(0,10,(3,2)).float()\n",
        "c = a @ b\n",
        "print('a=')\n",
        "print(a)\n",
        "print('--')\n",
        "print('b=')\n",
        "print(b)\n",
        "print('--')\n",
        "print('c=')\n",
        "print(c)"
      ],
      "metadata": {
        "colab": {
          "base_uri": "https://localhost:8080/"
        },
        "id": "77DONC5IvXMn",
        "outputId": "ceb5e0ea-00c3-40f8-cf09-4777025f9bb8"
      },
      "execution_count": 65,
      "outputs": [
        {
          "output_type": "stream",
          "name": "stdout",
          "text": [
            "a=\n",
            "tensor([[1.0000, 0.0000, 0.0000],\n",
            "        [0.5000, 0.5000, 0.0000],\n",
            "        [0.3333, 0.3333, 0.3333]])\n",
            "--\n",
            "b=\n",
            "tensor([[2., 7.],\n",
            "        [6., 4.],\n",
            "        [6., 5.]])\n",
            "--\n",
            "c=\n",
            "tensor([[2.0000, 7.0000],\n",
            "        [4.0000, 5.5000],\n",
            "        [4.6667, 5.3333]])\n"
          ]
        }
      ]
    },
    {
      "cell_type": "code",
      "source": [
        "# consider the following toy example:\n",
        "\n",
        "torch.manual_seed(1337)\n",
        "B,T,C = 4,8,2 # batch, time, channels\n",
        "x = torch.randn(B,T,C)\n",
        "x.shape"
      ],
      "metadata": {
        "id": "arLYCDr00dmB",
        "colab": {
          "base_uri": "https://localhost:8080/"
        },
        "outputId": "e141aca7-e639-471f-f48e-df008ace0055"
      },
      "execution_count": 66,
      "outputs": [
        {
          "output_type": "execute_result",
          "data": {
            "text/plain": [
              "torch.Size([4, 8, 2])"
            ]
          },
          "metadata": {},
          "execution_count": 66
        }
      ]
    }
  ]
}